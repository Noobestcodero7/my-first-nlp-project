{
 "cells": [
  {
   "cell_type": "code",
   "execution_count": 33,
   "id": "0f844733-ee98-47d0-897d-db910972c8da",
   "metadata": {},
   "outputs": [],
   "source": [
    "import torch \n",
    "del print"
   ]
  },
  {
   "cell_type": "code",
   "execution_count": 34,
   "id": "fa1050e0-4ec7-4556-a92b-06a10cb652f1",
   "metadata": {},
   "outputs": [
    {
     "name": "stdout",
     "output_type": "stream",
     "text": [
      "Tensor from List:\n",
      " tensor([[1, 2],\n",
      "        [3, 4]])\n"
     ]
    }
   ],
   "source": [
    "data = [[1,2],[3,4]] #python list,not tensor yet\n",
    "x_data = torch.tensor(data) #converting list into pytorch tensor\n",
    "print(\"Tensor from List:\\n\", x_data)\n"
   ]
  },
  {
   "cell_type": "code",
   "execution_count": 35,
   "id": "3dda482b-9688-4873-b249-4cdfe0ad90c1",
   "metadata": {},
   "outputs": [
    {
     "name": "stdout",
     "output_type": "stream",
     "text": [
      "\n",
      " Random Tensors:\n",
      " tensor([[0.1919, 0.0709, 0.4477],\n",
      "        [0.1627, 0.2184, 0.6915]])\n"
     ]
    }
   ],
   "source": [
    "x_ran = torch.rand(2,3)\n",
    "print(\"\\n Random Tensors:\\n\", x_ran)\n"
   ]
  },
  {
   "cell_type": "code",
   "execution_count": 36,
   "id": "7d9f6929-d2f6-463b-aefe-ff474325704c",
   "metadata": {},
   "outputs": [
    {
     "name": "stdout",
     "output_type": "stream",
     "text": [
      "\n",
      " Zero Number:\n",
      " tensor([[0., 0., 0.],\n",
      "        [0., 0., 0.]])\n"
     ]
    }
   ],
   "source": [
    "x_zeros = torch.zeros(2,3)\n",
    "print(\"\\n Zero Number:\\n\", x_zeros)\n"
   ]
  },
  {
   "cell_type": "code",
   "execution_count": 37,
   "id": "c8cceb1f-66e2-477a-9efa-27897a0ef26e",
   "metadata": {},
   "outputs": [
    {
     "name": "stdout",
     "output_type": "stream",
     "text": [
      "\n",
      " Ones like x_data:\n",
      " tensor([[1, 1],\n",
      "        [1, 1]])\n"
     ]
    }
   ],
   "source": [
    "x_like = torch.ones_like(x_data)\n",
    "print(\"\\n Ones like x_data:\\n\", x_like)\n"
   ]
  },
  {
   "cell_type": "code",
   "execution_count": 38,
   "id": "e0107688-0276-40c7-977c-3c3d74af0ed5",
   "metadata": {},
   "outputs": [
    {
     "name": "stdout",
     "output_type": "stream",
     "text": [
      "\n",
      " Float tensors:\n",
      " tensor([1., 2., 3.])\n"
     ]
    }
   ],
   "source": [
    "x_float = torch.tensor([1.0,2.0,3.0], dtype=torch.float32)\n",
    "print(\"\\n Float tensors:\\n\", x_float)\n"
   ]
  },
  {
   "cell_type": "code",
   "execution_count": 39,
   "id": "71d2b228-9477-4969-880b-c37bd3b84e1d",
   "metadata": {},
   "outputs": [
    {
     "name": "stdout",
     "output_type": "stream",
     "text": [
      "\n",
      " shape: torch.Size([2, 2])\n",
      "\n",
      " Data Type: torch.int64\n",
      "\n",
      " Device: cpu\n"
     ]
    }
   ],
   "source": [
    "print(\"\\n shape:\" ,x_data.shape)\n",
    "print(\"\\n Data Type:\" ,x_data.dtype)\n",
    "print(\"\\n Device:\" ,x_data.device)"
   ]
  },
  {
   "cell_type": "code",
   "execution_count": 40,
   "id": "e037d33f-4ac5-4ca4-aa3f-34ba36024a7d",
   "metadata": {},
   "outputs": [],
   "source": [
    "x = torch.tensor([[1,2],[3,4]])"
   ]
  },
  {
   "cell_type": "code",
   "execution_count": 41,
   "id": "67e6e8c3-5bbb-4f12-8827-376069b0bde2",
   "metadata": {},
   "outputs": [],
   "source": [
    "y = torch.tensor([[5,6],[7,8]])"
   ]
  },
  {
   "cell_type": "code",
   "execution_count": 42,
   "id": "fb7f60c1-1623-4d56-929d-873c9a017992",
   "metadata": {},
   "outputs": [
    {
     "name": "stdout",
     "output_type": "stream",
     "text": [
      "x+y = \n",
      " tensor([[ 6,  8],\n",
      "        [10, 12]])\n"
     ]
    }
   ],
   "source": [
    "print(\"x+y = \\n\", x+y)"
   ]
  },
  {
   "cell_type": "code",
   "execution_count": 43,
   "id": "a024a180-9b47-4695-bc2c-f0182a79f9f7",
   "metadata": {},
   "outputs": [
    {
     "name": "stdout",
     "output_type": "stream",
     "text": [
      "x @y.T = \n",
      " tensor([[17, 23],\n",
      "        [39, 53]])\n"
     ]
    }
   ],
   "source": [
    "#MATRIX MULTIPLICATION,T means transpose\n",
    "print(\"x @y.T = \\n\", x@y.T) "
   ]
  },
  {
   "cell_type": "code",
   "execution_count": 44,
   "id": "a3ab241f-f331-4814-a424-35efe5928144",
   "metadata": {},
   "outputs": [
    {
     "name": "stdout",
     "output_type": "stream",
     "text": [
      "x * y = \n",
      " tensor([[ 5, 12],\n",
      "        [21, 32]])\n"
     ]
    }
   ],
   "source": [
    "#ElEMENT WISE MULTIPLICATION\n",
    "print(\"x * y = \\n\", x * y) "
   ]
  },
  {
   "cell_type": "code",
   "execution_count": 45,
   "id": "161aadb2-11df-4ea7-a84d-e6ff961ef322",
   "metadata": {},
   "outputs": [
    {
     "name": "stdout",
     "output_type": "stream",
     "text": [
      "Reshaped x (1D) \n",
      " tensor([1, 2, 3, 4])\n"
     ]
    }
   ],
   "source": [
    "reshaped = x.view(4)\n",
    "print(\"Reshaped x (1D) \\n\" ,reshaped)"
   ]
  },
  {
   "cell_type": "code",
   "execution_count": 46,
   "id": "f98d40f3-ec27-4272-8d8f-592ea9e84ac9",
   "metadata": {},
   "outputs": [
    {
     "name": "stdout",
     "output_type": "stream",
     "text": [
      "First row of x: tensor([1, 2])\n"
     ]
    }
   ],
   "source": [
    "#indexing\n",
    "print(\"First row of x:\" , x[0])"
   ]
  },
  {
   "cell_type": "code",
   "execution_count": 47,
   "id": "e7e3405c-28ea-4ed1-949a-0ece3f4a077d",
   "metadata": {},
   "outputs": [
    {
     "name": "stdout",
     "output_type": "stream",
     "text": [
      "Element at [1,1]: tensor(4)\n"
     ]
    }
   ],
   "source": [
    "#slicing\n",
    "print (\"Element at [1,1]:\", x[1,1])"
   ]
  },
  {
   "cell_type": "code",
   "execution_count": 48,
   "id": "a5fc2bff-7d2b-4f53-a74b-fcd57c94a8b9",
   "metadata": {},
   "outputs": [
    {
     "name": "stdout",
     "output_type": "stream",
     "text": [
      "\n",
      " Random tensors\n",
      " tensor([[0.8426, 0.0604, 0.3191],\n",
      "        [0.3962, 0.0073, 0.6938],\n",
      "        [0.8880, 0.6416, 0.5640]])\n"
     ]
    }
   ],
   "source": [
    "x_ran1 = torch.rand(3,3)\n",
    "print(\"\\n Random tensors\\n\" , x_ran1)"
   ]
  },
  {
   "cell_type": "code",
   "execution_count": 49,
   "id": "8cd6038e-e616-4ebe-a042-7739ab46b28d",
   "metadata": {},
   "outputs": [
    {
     "name": "stdout",
     "output_type": "stream",
     "text": [
      "\n",
      " Transpose of Random Tensors\n",
      " tensor([[0.8426, 0.3962, 0.8880],\n",
      "        [0.0604, 0.0073, 0.6416],\n",
      "        [0.3191, 0.6938, 0.5640]])\n"
     ]
    }
   ],
   "source": [
    "print(\"\\n Transpose of Random Tensors\\n\" ,x_ran1.T)"
   ]
  },
  {
   "cell_type": "code",
   "execution_count": 50,
   "id": "b144a3ea-4209-4280-ab71-c9048b1b0da3",
   "metadata": {},
   "outputs": [
    {
     "name": "stdout",
     "output_type": "stream",
     "text": [
      "\n",
      " Matrix multiplication with itself \n",
      " tensor([[0.8155, 0.5557, 0.9670],\n",
      "        [0.5557, 0.6383, 0.7478],\n",
      "        [0.9670, 0.7478, 1.5184]])\n"
     ]
    }
   ],
   "source": [
    "print(\"\\n Matrix multiplication with itself \\n\" ,x_ran1 @ x_ran1.T)"
   ]
  },
  {
   "cell_type": "code",
   "execution_count": null,
   "id": "d08e635b-2399-4dfd-b16c-08dd6020280d",
   "metadata": {},
   "outputs": [],
   "source": []
  }
 ],
 "metadata": {
  "kernelspec": {
   "display_name": "Python [conda env:base] *",
   "language": "python",
   "name": "conda-base-py"
  },
  "language_info": {
   "codemirror_mode": {
    "name": "ipython",
    "version": 3
   },
   "file_extension": ".py",
   "mimetype": "text/x-python",
   "name": "python",
   "nbconvert_exporter": "python",
   "pygments_lexer": "ipython3",
   "version": "3.13.5"
  }
 },
 "nbformat": 4,
 "nbformat_minor": 5
}
