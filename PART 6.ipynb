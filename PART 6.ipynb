{
 "cells": [
  {
   "cell_type": "code",
   "execution_count": 16,
   "id": "9686cc5b-7560-4255-bfec-629ea0598b97",
   "metadata": {},
   "outputs": [],
   "source": [
    "import torch"
   ]
  },
  {
   "cell_type": "code",
   "execution_count": 17,
   "id": "1e30e59d-173d-44ae-b047-f76dfe575735",
   "metadata": {},
   "outputs": [],
   "source": [
    "import torch.nn as nn"
   ]
  },
  {
   "cell_type": "code",
   "execution_count": 18,
   "id": "f23b43fa-78b9-45c7-a1c8-c4d838446799",
   "metadata": {},
   "outputs": [],
   "source": [
    "#Loss function \n",
    "loss_fun =nn.MSELoss()"
   ]
  },
  {
   "cell_type": "code",
   "execution_count": 19,
   "id": "84eced99-1e03-4f2f-ab97-65f1111b4b9e",
   "metadata": {},
   "outputs": [],
   "source": [
    "y_pred = torch.tensor([3.0])"
   ]
  },
  {
   "cell_type": "code",
   "execution_count": 20,
   "id": "7a17e013-e778-467f-8a6b-b6d6d108acd3",
   "metadata": {},
   "outputs": [],
   "source": [
    "y_true = torch.tensor([5.0])"
   ]
  },
  {
   "cell_type": "code",
   "execution_count": 21,
   "id": "2563de5d-8f32-4435-b11e-6bcee15a0079",
   "metadata": {},
   "outputs": [],
   "source": [
    "loss = loss_fun(y_pred,y_true)"
   ]
  },
  {
   "cell_type": "code",
   "execution_count": 22,
   "id": "2e808a32-6e08-4b74-824e-323a5688a046",
   "metadata": {},
   "outputs": [
    {
     "name": "stdout",
     "output_type": "stream",
     "text": [
      "Loss 4.0\n"
     ]
    }
   ],
   "source": [
    "print(\"Loss\",loss.item())"
   ]
  },
  {
   "cell_type": "code",
   "execution_count": 27,
   "id": "551286d9-a9da-4c49-b582-2cd58cc89ded",
   "metadata": {},
   "outputs": [
    {
     "name": "stdout",
     "output_type": "stream",
     "text": [
      "STep 1 - Loss: 30.8645\n",
      "STep 2 - Loss: 23.9015\n",
      "STep 3 - Loss: 18.5093\n",
      "STep 4 - Loss: 14.3336\n",
      "STep 5 - Loss: 11.0999\n",
      "STep 6 - Loss: 8.5958\n",
      "STep 7 - Loss: 6.6566\n",
      "STep 8 - Loss: 5.1549\n",
      "STep 9 - Loss: 3.9919\n",
      "STep 10 - Loss: 3.0913\n",
      "STep 11 - Loss: 2.3939\n",
      "STep 12 - Loss: 1.8539\n",
      "STep 13 - Loss: 1.4356\n",
      "STep 14 - Loss: 1.1118\n",
      "STep 15 - Loss: 0.8609\n",
      "STep 16 - Loss: 0.6667\n",
      "STep 17 - Loss: 0.5163\n",
      "STep 18 - Loss: 0.3998\n",
      "STep 19 - Loss: 0.3096\n",
      "STep 20 - Loss: 0.2398\n",
      "STep 21 - Loss: 0.1857\n",
      "STep 22 - Loss: 0.1438\n",
      "STep 23 - Loss: 0.1114\n",
      "STep 24 - Loss: 0.0862\n",
      "STep 25 - Loss: 0.0668\n"
     ]
    }
   ],
   "source": [
    "class SimpleModel(nn.Module):\n",
    "    def __init__(self):\n",
    "        super().__init__()\n",
    "        self.linear = nn.Linear(2,1)\n",
    "    def forward(self,x):\n",
    "        return self.linear(x)\n",
    "\n",
    "model =SimpleModel()\n",
    "\n",
    "optimizer = torch.optim.SGD(model.parameters(), lr=0.01)\n",
    "loss_fn = nn.MSELoss()\n",
    "#sample data\n",
    "x = torch.tensor([[1.0,2.0]], dtype=torch.float32)\n",
    "y_true = torch.tensor([[5.0]], dtype=torch.float32)\n",
    "\n",
    "#training step\n",
    "for step in range(25):\n",
    "    y_pred= model(x)\n",
    "    loss=loss_fn(y_pred,y_true)\n",
    "    optimizer.zero_grad()\n",
    "    loss.backward()\n",
    "    optimizer.step()\n",
    "    print(f\"STep {step+1} - Loss: {loss.item():.4f}\")"
   ]
  },
  {
   "cell_type": "code",
   "execution_count": null,
   "id": "b0b34614-c36a-4783-ab93-5095022b102a",
   "metadata": {},
   "outputs": [],
   "source": []
  }
 ],
 "metadata": {
  "kernelspec": {
   "display_name": "Python [conda env:base] *",
   "language": "python",
   "name": "conda-base-py"
  },
  "language_info": {
   "codemirror_mode": {
    "name": "ipython",
    "version": 3
   },
   "file_extension": ".py",
   "mimetype": "text/x-python",
   "name": "python",
   "nbconvert_exporter": "python",
   "pygments_lexer": "ipython3",
   "version": "3.13.5"
  }
 },
 "nbformat": 4,
 "nbformat_minor": 5
}
