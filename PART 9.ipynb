{
 "cells": [
  {
   "cell_type": "code",
   "execution_count": 4,
   "id": "293e9fdc-811e-437a-99cc-85305b55696d",
   "metadata": {},
   "outputs": [
    {
     "name": "stdout",
     "output_type": "stream",
     "text": [
      "Tokens: ['python', 'is', 'a', 'powerful', 'language.', 'practice', 'make', 'perfect.', 'ai', 'stands', 'for', 'artificial', 'intelligence.', 'learning', 'is', 'a', 'continous', 'process.', 'chatbot', 'can', 'answer', 'questions.']\n",
      "\n",
      "Vocab size: 21\n",
      "\n",
      "Sample mapping:  [('<UNK>', 0), ('a', 1), ('ai', 2), ('answer', 3), ('artificial', 4)]\n",
      "\n",
      "Original: AI is powerful\n",
      "\n",
      "Encode: [2, 10, 15]\n",
      "\n",
      "Decode: ai is powerful\n"
     ]
    }
   ],
   "source": [
    " import json\n",
    "import torch\n",
    "data = \"\"\"\n",
    "Python is a powerful language.\n",
    "practice make perfect.\n",
    "AI stands for Artificial Intelligence.\n",
    "Learning is a continous process.\n",
    "Chatbot can answer questions.\n",
    "\"\"\"\n",
    "def word_tokenize(text):\n",
    "    return text.lower().split()\n",
    "tokens = word_tokenize(data)\n",
    "print(\"Tokens:\", tokens)\n",
    "vocab = sorted(set(tokens))\n",
    "vocab.insert(0, \"<UNK>\")\n",
    "stoi = {word: idx for idx, word in enumerate(vocab)}\n",
    "itos = {idx: word for word, idx in stoi.items()}\n",
    "print (\"\\nVocab size:\", len(stoi))\n",
    "print (\"\\nSample mapping: \", list(stoi.items())[:5])\n",
    "def encode(text):\n",
    "    return [stoi.get(word, stoi[\"<UNK>\"]) for word in word_tokenize(text)]\n",
    "def decode(indices):\n",
    "    return' '.join([itos[idx] for idx in indices])\n",
    "sample = \"AI is powerful\"\n",
    "encode = encode(sample)\n",
    "decode = decode(encode)\n",
    "print(\"\\nOriginal:\" , sample)\n",
    "print(\"\\nEncode:\" ,encode)\n",
    "print(\"\\nDecode:\" ,decode)\n",
    "with open(\"Tokenizer.json\", \"w\") as f:\n",
    "    json.dump({\"stoi\": stoi , \"itos\": itos},f)"
   ]
  },
  {
   "cell_type": "code",
   "execution_count": null,
   "id": "0bf6a7cb-b722-4eff-988e-d869ff46d56b",
   "metadata": {},
   "outputs": [],
   "source": []
  }
 ],
 "metadata": {
  "kernelspec": {
   "display_name": "Python [conda env:base] *",
   "language": "python",
   "name": "conda-base-py"
  },
  "language_info": {
   "codemirror_mode": {
    "name": "ipython",
    "version": 3
   },
   "file_extension": ".py",
   "mimetype": "text/x-python",
   "name": "python",
   "nbconvert_exporter": "python",
   "pygments_lexer": "ipython3",
   "version": "3.13.5"
  }
 },
 "nbformat": 4,
 "nbformat_minor": 5
}
