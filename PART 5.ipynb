{
 "cells": [
  {
   "cell_type": "code",
   "execution_count": null,
   "id": "2377ba37-66d8-46a6-ad04-33e2befab62f",
   "metadata": {},
   "outputs": [],
   "source": [
    "class MyModel(nn.Module):\n",
    "    def __init_(self):\n",
    "       super().__init__()\n",
    "       self.layer = nn.Linear(....)\n",
    "    def __init_(self,x):\n",
    "        return self.layer(x)"
   ]
  },
  {
   "cell_type": "code",
   "execution_count": 3,
   "id": "5a55a077-4e68-494b-8bfe-f66a3645de2b",
   "metadata": {},
   "outputs": [],
   "source": [
    "import torch"
   ]
  },
  {
   "cell_type": "code",
   "execution_count": 4,
   "id": "c8913da8-e5c0-44df-ac5f-9db7b0fb78e4",
   "metadata": {},
   "outputs": [],
   "source": [
    "import torch.nn as nn"
   ]
  },
  {
   "cell_type": "code",
   "execution_count": 5,
   "id": "a98d3e82-cc3a-4573-b0e0-16766fab6d93",
   "metadata": {},
   "outputs": [],
   "source": [
    "#define a basic model"
   ]
  },
  {
   "cell_type": "code",
   "execution_count": 6,
   "id": "9ed907e7-6e5c-4086-8ac7-02ba0037bfcf",
   "metadata": {},
   "outputs": [
    {
     "name": "stdout",
     "output_type": "stream",
     "text": [
      "Model architecture: \n",
      " SimpleModel(\n",
      "  (linear): Linear(in_features=2, out_features=1, bias=True)\n",
      ")\n"
     ]
    }
   ],
   "source": [
    "class SimpleModel(nn.Module):\n",
    "    def __init__(self):\n",
    "        super().__init__()\n",
    "        self.linear = nn.Linear(in_features=2, out_features=1)\n",
    "\n",
    "    def forward(self,x):\n",
    "        return self.linear(x)\n",
    "\n",
    "#create an instance of the model\n",
    "model =SimpleModel()\n",
    "print(\"Model architecture: \\n\", model)"
   ]
  },
  {
   "cell_type": "code",
   "execution_count": 10,
   "id": "85e2edc6-332f-4d01-a04c-9ba73b5d9f62",
   "metadata": {},
   "outputs": [
    {
     "name": "stdout",
     "output_type": "stream",
     "text": [
      "Model Output: \n",
      " -0.991965651512146\n"
     ]
    }
   ],
   "source": [
    "# simple input (1 row with 2 features)\n",
    "x = torch.tensor([[1.0,2.0]])\n",
    "\n",
    "#forward pass through the model\n",
    "output =model(x)\n",
    "print(\"Model Output: \\n\", output)"
   ]
  },
  {
   "cell_type": "code",
   "execution_count": 13,
   "id": "30098fbe-557c-4377-99ba-d466d1517b1e",
   "metadata": {},
   "outputs": [],
   "source": [
    "model = nn.Sequential(\n",
    "    nn.Linear(2,4), #First Layer :2 inputs -> 4 Outputs\n",
    "    nn.ReLU(),      #Activation function (non-linearity)\n",
    "    nn.Linear(4,1)  #Second layer: 4 Inputs -> 1 Output\n",
    ")"
   ]
  },
  {
   "cell_type": "code",
   "execution_count": null,
   "id": "14644bb5-8444-4815-9178-f96038881ef7",
   "metadata": {},
   "outputs": [],
   "source": []
  }
 ],
 "metadata": {
  "kernelspec": {
   "display_name": "Python [conda env:base] *",
   "language": "python",
   "name": "conda-base-py"
  },
  "language_info": {
   "codemirror_mode": {
    "name": "ipython",
    "version": 3
   },
   "file_extension": ".py",
   "mimetype": "text/x-python",
   "name": "python",
   "nbconvert_exporter": "python",
   "pygments_lexer": "ipython3",
   "version": "3.13.5"
  }
 },
 "nbformat": 4,
 "nbformat_minor": 5
}
