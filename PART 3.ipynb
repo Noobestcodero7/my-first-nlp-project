{
 "cells": [
  {
   "cell_type": "code",
   "execution_count": 1,
   "id": "4acec33c-f5bf-4930-939c-c884b78d755f",
   "metadata": {},
   "outputs": [],
   "source": [
    "import torch"
   ]
  },
  {
   "cell_type": "code",
   "execution_count": 2,
   "id": "d4cd4d3d-e03e-493d-9f6b-5735413486bc",
   "metadata": {},
   "outputs": [],
   "source": [
    "x = torch.tensor(2.0, requires_grad=True)"
   ]
  },
  {
   "cell_type": "code",
   "execution_count": 3,
   "id": "427a19d0-eb32-419b-9bce-4f44959bfd17",
   "metadata": {},
   "outputs": [],
   "source": [
    "y = x**3"
   ]
  },
  {
   "cell_type": "code",
   "execution_count": 4,
   "id": "a3558c4d-c38e-4213-83c5-89514e444a3e",
   "metadata": {},
   "outputs": [],
   "source": [
    "#compute the gradient (dy/dx)\n",
    "y.backward()"
   ]
  },
  {
   "cell_type": "code",
   "execution_count": 9,
   "id": "991788b0-e718-4adc-a772-84d7b0013274",
   "metadata": {},
   "outputs": [
    {
     "name": "stdout",
     "output_type": "stream",
     "text": [
      "input x: 2.0\n"
     ]
    }
   ],
   "source": [
    "print(\"input x:\", x.item())"
   ]
  },
  {
   "cell_type": "code",
   "execution_count": 7,
   "id": "0c33611f-6f60-4660-8661-bc1030c667c0",
   "metadata": {},
   "outputs": [
    {
     "name": "stdout",
     "output_type": "stream",
     "text": [
      "Output x^3= 8.0\n"
     ]
    }
   ],
   "source": [
    "print(\"Output x^3=\", y.item())"
   ]
  },
  {
   "cell_type": "code",
   "execution_count": 10,
   "id": "84d831fa-876b-4be6-8b28-8902cf62c11c",
   "metadata": {},
   "outputs": [
    {
     "name": "stdout",
     "output_type": "stream",
     "text": [
      "dy/dx at x=2: 12.0\n"
     ]
    }
   ],
   "source": [
    "print(\"dy/dx at x=2:\" , x.grad.item())"
   ]
  },
  {
   "cell_type": "code",
   "execution_count": 22,
   "id": "bd497946-b451-4769-a93f-6701578cd9e1",
   "metadata": {},
   "outputs": [],
   "source": [
    "#simple model : y=wx+b,here w= weights ,x=inputs, b=bias\n",
    "w = torch.tensor(2.0, requires_grad=True) # defining weights\n",
    "b = torch.tensor(1.0, requires_grad=True) # defining bias"
   ]
  },
  {
   "cell_type": "code",
   "execution_count": 31,
   "id": "1485a278-6aa8-47db-9b49-4c4d3ce04220",
   "metadata": {},
   "outputs": [],
   "source": [
    "x = torch.tensor(3.0) #input"
   ]
  },
  {
   "cell_type": "code",
   "execution_count": 32,
   "id": "f9f37924-f77e-4d82-a107-ba82ea4df1f5",
   "metadata": {},
   "outputs": [],
   "source": [
    "#forward pass\n",
    "y = w*x+b #simple linear model equation"
   ]
  },
  {
   "cell_type": "code",
   "execution_count": 25,
   "id": "48b23336-c849-4a7f-977a-6d14b34676de",
   "metadata": {},
   "outputs": [],
   "source": [
    "loss = (y-10) ** 2"
   ]
  },
  {
   "cell_type": "code",
   "execution_count": 26,
   "id": "4548ae29-3a13-487e-9ac8-f5401fd27181",
   "metadata": {},
   "outputs": [],
   "source": [
    "#backward pass\n",
    "loss.backward()"
   ]
  },
  {
   "cell_type": "code",
   "execution_count": 29,
   "id": "2bb43bb6-14f3-43e6-90fb-daf2919f217f",
   "metadata": {},
   "outputs": [
    {
     "name": "stdout",
     "output_type": "stream",
     "text": [
      "Gradient for w: tensor(-18.)\n"
     ]
    }
   ],
   "source": [
    "#print gradient\n",
    "print(\"Gradient for w:\",w.grad)"
   ]
  },
  {
   "cell_type": "code",
   "execution_count": 30,
   "id": "3e9549b1-dcb4-4244-9bc6-3a8ed4697a88",
   "metadata": {},
   "outputs": [
    {
     "name": "stdout",
     "output_type": "stream",
     "text": [
      "Gradient for b: tensor(-6.)\n"
     ]
    }
   ],
   "source": [
    "print(\"Gradient for b:\",b.grad)"
   ]
  },
  {
   "cell_type": "code",
   "execution_count": null,
   "id": "ee2cc79f-aeea-4801-8bd7-d05f40d479de",
   "metadata": {},
   "outputs": [],
   "source": []
  }
 ],
 "metadata": {
  "kernelspec": {
   "display_name": "Python [conda env:base] *",
   "language": "python",
   "name": "conda-base-py"
  },
  "language_info": {
   "codemirror_mode": {
    "name": "ipython",
    "version": 3
   },
   "file_extension": ".py",
   "mimetype": "text/x-python",
   "name": "python",
   "nbconvert_exporter": "python",
   "pygments_lexer": "ipython3",
   "version": "3.13.5"
  }
 },
 "nbformat": 4,
 "nbformat_minor": 5
}
