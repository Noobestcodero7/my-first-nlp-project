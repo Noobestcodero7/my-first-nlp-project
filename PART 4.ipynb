{
 "cells": [
  {
   "cell_type": "code",
   "execution_count": 3,
   "id": "25f134a1-4e25-4a46-9e84-bf6bb0fcd495",
   "metadata": {},
   "outputs": [],
   "source": [
    "import torch"
   ]
  },
  {
   "cell_type": "code",
   "execution_count": 4,
   "id": "fa54d3bd-4bac-4b49-9e64-82dd02dec77d",
   "metadata": {},
   "outputs": [],
   "source": [
    "x = torch.tensor(5.0, requires_grad=True)"
   ]
  },
  {
   "cell_type": "code",
   "execution_count": 5,
   "id": "1435270e-72e8-47b8-b26d-039161f62e42",
   "metadata": {},
   "outputs": [],
   "source": [
    "y = 4* x**2 + 3*x"
   ]
  },
  {
   "cell_type": "code",
   "execution_count": 6,
   "id": "041cf68c-09b1-4fd1-a421-605cf14c54d7",
   "metadata": {},
   "outputs": [],
   "source": [
    "y.backward()"
   ]
  },
  {
   "cell_type": "code",
   "execution_count": 9,
   "id": "9c5d2cd3-0057-4bb8-ad47-5e8f0dca7cda",
   "metadata": {},
   "outputs": [
    {
     "name": "stdout",
     "output_type": "stream",
     "text": [
      " Gradient for X : 43.0\n"
     ]
    }
   ],
   "source": [
    "print( \" Gradient for X :\" , x.grad.item())"
   ]
  },
  {
   "cell_type": "code",
   "execution_count": null,
   "id": "a7d9c3de-e9a4-4381-8dcb-4a0c87eb020f",
   "metadata": {},
   "outputs": [],
   "source": []
  }
 ],
 "metadata": {
  "kernelspec": {
   "display_name": "Python [conda env:base] *",
   "language": "python",
   "name": "conda-base-py"
  },
  "language_info": {
   "codemirror_mode": {
    "name": "ipython",
    "version": 3
   },
   "file_extension": ".py",
   "mimetype": "text/x-python",
   "name": "python",
   "nbconvert_exporter": "python",
   "pygments_lexer": "ipython3",
   "version": "3.13.5"
  }
 },
 "nbformat": 4,
 "nbformat_minor": 5
}
