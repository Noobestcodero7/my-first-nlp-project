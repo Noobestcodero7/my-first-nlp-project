{
 "cells": [
  {
   "cell_type": "code",
   "execution_count": 1,
   "id": "07d48dd6-4bc6-446b-9604-f6750df86553",
   "metadata": {},
   "outputs": [],
   "source": [
    " import json"
   ]
  },
  {
   "cell_type": "code",
   "execution_count": 2,
   "id": "dc92fa33-01f8-4413-bf3a-5927ea9ce28f",
   "metadata": {},
   "outputs": [],
   "source": [
    "import torch"
   ]
  },
  {
   "cell_type": "code",
   "execution_count": 17,
   "id": "6eff856e-46f6-4ae8-85ef-5c1db9a32bc7",
   "metadata": {},
   "outputs": [],
   "source": [
    "data = \"\"\"\n",
    "Python is a powerful language.\n",
    "practice make perfect.\n",
    "AI stands for Artificial Intelligence.\n",
    "Learning is a continous process.\n",
    "Chatbot can answer questions.\n",
    "\"\"\""
   ]
  },
  {
   "cell_type": "code",
   "execution_count": 18,
   "id": "0145ba04-8729-433b-baa0-25aa694af67f",
   "metadata": {},
   "outputs": [],
   "source": [
    "def word_tokenize(text):\n",
    "    return text.lower().split()"
   ]
  },
  {
   "cell_type": "code",
   "execution_count": 19,
   "id": "ac951627-dbf6-4550-9195-c98b11587b94",
   "metadata": {},
   "outputs": [],
   "source": [
    "tokens = word_tokenize(data)"
   ]
  },
  {
   "cell_type": "code",
   "execution_count": 20,
   "id": "aab6c714-e085-41d7-99b4-9e2cf18cb823",
   "metadata": {},
   "outputs": [
    {
     "name": "stdout",
     "output_type": "stream",
     "text": [
      "Tokens: ['python', 'is', 'a', 'powerful', 'language.', 'practice', 'make', 'perfect.', 'ai', 'stands', 'for', 'artificial', 'intelligence.', 'learning', 'is', 'a', 'continous', 'process.', 'chatbot', 'can', 'answer', 'questions.']\n"
     ]
    }
   ],
   "source": [
    "print(\"Tokens:\", tokens)"
   ]
  },
  {
   "cell_type": "code",
   "execution_count": 21,
   "id": "f0d675f7-6bb7-4a64-bbaf-23b9c3ef64da",
   "metadata": {},
   "outputs": [],
   "source": [
    "vocab = sorted(set(tokens)) #removes duplicate and then sort"
   ]
  },
  {
   "cell_type": "code",
   "execution_count": 22,
   "id": "5776faa7-9846-4ccb-85b1-6fbe8199bad1",
   "metadata": {},
   "outputs": [],
   "source": [
    "stoi = {word: idx for idx, word in enumerate(vocab)} #word -> index"
   ]
  },
  {
   "cell_type": "code",
   "execution_count": 23,
   "id": "b39fde23-5b92-44a1-9b7b-4a1679837161",
   "metadata": {},
   "outputs": [],
   "source": [
    "itos = {idx: word for word, idx in stoi.items()} #index -> word"
   ]
  },
  {
   "cell_type": "code",
   "execution_count": 24,
   "id": "5565fb71-7430-4b45-83a2-92b22b1b6731",
   "metadata": {},
   "outputs": [
    {
     "name": "stdout",
     "output_type": "stream",
     "text": [
      "Vocab size: 20\n"
     ]
    }
   ],
   "source": [
    "print (\"Vocab size:\", len(stoi))"
   ]
  },
  {
   "cell_type": "code",
   "execution_count": 25,
   "id": "a2549c42-94c7-4ab1-8b99-8640a69b802c",
   "metadata": {},
   "outputs": [
    {
     "name": "stdout",
     "output_type": "stream",
     "text": [
      "Sample mapping:  [('a', 0), ('ai', 1), ('answer', 2), ('artificial', 3), ('can', 4)]\n"
     ]
    }
   ],
   "source": [
    "print (\"Sample mapping: \", list(stoi.items())[:5])"
   ]
  },
  {
   "cell_type": "code",
   "execution_count": 26,
   "id": "c8652f9a-9e74-4975-9d43-a90a73fb158b",
   "metadata": {},
   "outputs": [],
   "source": [
    "def encode(text):\n",
    "    return[stoi[word] for word in word_tokenize(text)]"
   ]
  },
  {
   "cell_type": "code",
   "execution_count": 27,
   "id": "475bd60f-8f64-4a0c-b5ff-e55a4a8a9736",
   "metadata": {},
   "outputs": [],
   "source": [
    "def decode(indices):\n",
    "    return' '.join([itos[idx] for idx in indices])"
   ]
  },
  {
   "cell_type": "code",
   "execution_count": 28,
   "id": "2ddc1fbf-beab-44a0-8aaf-90816e988f0b",
   "metadata": {},
   "outputs": [],
   "source": [
    "sample = \"AI is powerful\""
   ]
  },
  {
   "cell_type": "code",
   "execution_count": 29,
   "id": "1cb13ca0-9226-4508-a7c2-2562e39de608",
   "metadata": {},
   "outputs": [],
   "source": [
    "encode = encode(sample)"
   ]
  },
  {
   "cell_type": "code",
   "execution_count": 30,
   "id": "1f1c44a5-360e-4685-acae-3cb8531dfb62",
   "metadata": {},
   "outputs": [],
   "source": [
    "decode = decode(encode)"
   ]
  },
  {
   "cell_type": "code",
   "execution_count": 31,
   "id": "cd089c14-2b3b-4f0d-ad28-66eab2533262",
   "metadata": {},
   "outputs": [
    {
     "name": "stdout",
     "output_type": "stream",
     "text": [
      "Original: AI is powerful\n"
     ]
    }
   ],
   "source": [
    "print(\"Original:\" , sample)"
   ]
  },
  {
   "cell_type": "code",
   "execution_count": 32,
   "id": "be4f2492-a26d-4d6d-b21a-283d2449ccea",
   "metadata": {},
   "outputs": [
    {
     "name": "stdout",
     "output_type": "stream",
     "text": [
      "Encode: [1, 9, 14]\n"
     ]
    }
   ],
   "source": [
    "print(\"Encode:\" ,encode)"
   ]
  },
  {
   "cell_type": "code",
   "execution_count": 33,
   "id": "36005d95-d1f6-4ca7-93ba-9817375844dd",
   "metadata": {},
   "outputs": [
    {
     "name": "stdout",
     "output_type": "stream",
     "text": [
      "Decode: ai is powerful\n"
     ]
    }
   ],
   "source": [
    "print(\"Decode:\" ,decode)"
   ]
  },
  {
   "cell_type": "code",
   "execution_count": 36,
   "id": "69e9ab5e-64ce-451f-976f-4a7acae303f9",
   "metadata": {},
   "outputs": [],
   "source": [
    "with open(\"Tokenizer.json\", \"w\") as f:\n",
    "    json.dump({\"stoi\": stoi , \"itos\": itos},f)"
   ]
  },
  {
   "cell_type": "code",
   "execution_count": null,
   "id": "6dc5d663-7786-4389-981d-fa3ac1412c30",
   "metadata": {},
   "outputs": [],
   "source": []
  }
 ],
 "metadata": {
  "kernelspec": {
   "display_name": "Python [conda env:base] *",
   "language": "python",
   "name": "conda-base-py"
  },
  "language_info": {
   "codemirror_mode": {
    "name": "ipython",
    "version": 3
   },
   "file_extension": ".py",
   "mimetype": "text/x-python",
   "name": "python",
   "nbconvert_exporter": "python",
   "pygments_lexer": "ipython3",
   "version": "3.13.5"
  }
 },
 "nbformat": 4,
 "nbformat_minor": 5
}
