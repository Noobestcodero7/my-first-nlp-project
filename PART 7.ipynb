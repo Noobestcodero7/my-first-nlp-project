{
 "cells": [
  {
   "cell_type": "code",
   "execution_count": 1,
   "id": "3d2c36cb-05be-4f90-b0d0-fc5eca82f6cb",
   "metadata": {},
   "outputs": [],
   "source": [
    "import torch"
   ]
  },
  {
   "cell_type": "code",
   "execution_count": 2,
   "id": "e179e295-4b10-4118-a5e2-53a4df9c17c3",
   "metadata": {},
   "outputs": [],
   "source": [
    "import torch.nn as nn"
   ]
  },
  {
   "cell_type": "code",
   "execution_count": 3,
   "id": "44cf3817-ff7b-4d9f-a5a3-9e0c229b7461",
   "metadata": {},
   "outputs": [
    {
     "name": "stdout",
     "output_type": "stream",
     "text": [
      "STep 1 - Loss: 3.3882\n",
      "STep 2 - Loss: 3.3482\n",
      "STep 3 - Loss: 3.3082\n",
      "STep 4 - Loss: 3.2682\n",
      "STep 5 - Loss: 3.2282\n",
      "STep 6 - Loss: 3.1882\n",
      "STep 7 - Loss: 3.1482\n",
      "STep 8 - Loss: 3.1082\n",
      "STep 9 - Loss: 3.0682\n",
      "STep 10 - Loss: 3.0282\n"
     ]
    }
   ],
   "source": [
    "class SimpleModel(nn.Module):\n",
    "    def __init__(self):\n",
    "        super().__init__()\n",
    "        self.linear = nn.Linear(2,1)\n",
    "    def forward(self,x):\n",
    "        return self.linear(x)\n",
    "\n",
    "model =SimpleModel()\n",
    "\n",
    "optimizer = torch.optim.Adam(model.parameters(), lr=0.01)\n",
    "loss_fn = nn.L1Loss()\n",
    "#sample data\n",
    "x = torch.tensor([[1.0,2.0]], dtype=torch.float32)\n",
    "y_true = torch.tensor([[5.0]], dtype=torch.float32)\n",
    "\n",
    "#training step\n",
    "for step in range(10):\n",
    "    y_pred= model(x)\n",
    "    loss=loss_fn(y_pred,y_true)\n",
    "    optimizer.zero_grad()\n",
    "    loss.backward()\n",
    "    optimizer.step()\n",
    "    print(f\"STep {step+1} - Loss: {loss.item():.4f}\")\n"
   ]
  },
  {
   "cell_type": "code",
   "execution_count": null,
   "id": "e4061b00-e2ea-4fca-831d-52248b80e379",
   "metadata": {},
   "outputs": [],
   "source": []
  }
 ],
 "metadata": {
  "kernelspec": {
   "display_name": "Python [conda env:base] *",
   "language": "python",
   "name": "conda-base-py"
  },
  "language_info": {
   "codemirror_mode": {
    "name": "ipython",
    "version": 3
   },
   "file_extension": ".py",
   "mimetype": "text/x-python",
   "name": "python",
   "nbconvert_exporter": "python",
   "pygments_lexer": "ipython3",
   "version": "3.13.5"
  }
 },
 "nbformat": 4,
 "nbformat_minor": 5
}
